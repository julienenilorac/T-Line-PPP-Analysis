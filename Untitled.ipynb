{
 "cells": [
  {
   "cell_type": "markdown",
   "metadata": {},
   "source": [
    "# Electricity Transmission PPP projects"
   ]
  },
  {
   "cell_type": "code",
   "execution_count": 1,
   "metadata": {},
   "outputs": [],
   "source": [
    "import pandas as pd\n",
    "import re\n",
    "import numpy as np"
   ]
  },
  {
   "cell_type": "markdown",
   "metadata": {},
   "source": [
    "## 1. Data acquisition and consolidation"
   ]
  },
  {
   "cell_type": "markdown",
   "metadata": {},
   "source": [
    "The PPI website provides either a stata database or a xlsx document that can be downloaded further to a query\n",
    "For the purpose of the analysis we will be using df_query since it allows to select project segments such as 'Transmission', but first we make sure that the query document is consistent with the STATA file."
   ]
  },
  {
   "cell_type": "code",
   "execution_count": 2,
   "metadata": {},
   "outputs": [],
   "source": [
    "df_stata = pd.read_stata('2019 H1 PPI Stata.dta')\n",
    "df_query = pd.read_excel('PPI_Full_Query.xlsx')"
   ]
  },
  {
   "cell_type": "code",
   "execution_count": 3,
   "metadata": {},
   "outputs": [
    {
     "data": {
      "text/plain": [
       "True"
      ]
     },
     "execution_count": 3,
     "metadata": {},
     "output_type": "execute_result"
    }
   ],
   "source": [
    "# Checks that both files have indeed the same number of project entries\n",
    "df_stata.ID.count() == df_query['Project name'].count()"
   ]
  },
  {
   "cell_type": "code",
   "execution_count": 4,
   "metadata": {},
   "outputs": [
    {
     "data": {
      "text/plain": [
       "10228"
      ]
     },
     "execution_count": 4,
     "metadata": {},
     "output_type": "execute_result"
    }
   ],
   "source": [
    "# Get the total number of transaction records in Database\n",
    "df_stata.ID.count()"
   ]
  },
  {
   "cell_type": "markdown",
   "metadata": {},
   "source": [
    "The Stata file has a PPP column which is absent from the xlsx query file"
   ]
  },
  {
   "cell_type": "code",
   "execution_count": 5,
   "metadata": {},
   "outputs": [
    {
     "data": {
      "text/plain": [
       "PPP Project    8516\n",
       "Other PPI      1712\n",
       "Name: PPP, dtype: int64"
      ]
     },
     "execution_count": 5,
     "metadata": {},
     "output_type": "execute_result"
    }
   ],
   "source": [
    "df_stata['PPP'].value_counts()"
   ]
  },
  {
   "cell_type": "code",
   "execution_count": 6,
   "metadata": {},
   "outputs": [
    {
     "data": {
      "text/plain": [
       "10228"
      ]
     },
     "execution_count": 6,
     "metadata": {},
     "output_type": "execute_result"
    }
   ],
   "source": [
    "df_stata['PPP'].value_counts().sum()"
   ]
  },
  {
   "cell_type": "markdown",
   "metadata": {},
   "source": [
    "The PPP column only comprises \"PPP Projects\" and \"Other PPI\""
   ]
  },
  {
   "cell_type": "code",
   "execution_count": 7,
   "metadata": {},
   "outputs": [],
   "source": [
    "# We only keep the PPP and stype column and use the PPP column as an Index\n",
    "df_PPP_check = df_stata[['PPP','stype']].set_index('stype')"
   ]
  },
  {
   "cell_type": "code",
   "execution_count": 8,
   "metadata": {},
   "outputs": [
    {
     "data": {
      "text/html": [
       "<div>\n",
       "<style scoped>\n",
       "    .dataframe tbody tr th:only-of-type {\n",
       "        vertical-align: middle;\n",
       "    }\n",
       "\n",
       "    .dataframe tbody tr th {\n",
       "        vertical-align: top;\n",
       "    }\n",
       "\n",
       "    .dataframe thead th {\n",
       "        text-align: right;\n",
       "    }\n",
       "</style>\n",
       "<table border=\"1\" class=\"dataframe\">\n",
       "  <thead>\n",
       "    <tr style=\"text-align: right;\">\n",
       "      <th></th>\n",
       "      <th>PPP Project</th>\n",
       "      <th>Other PPI</th>\n",
       "    </tr>\n",
       "    <tr>\n",
       "      <th>stype</th>\n",
       "      <th></th>\n",
       "      <th></th>\n",
       "    </tr>\n",
       "  </thead>\n",
       "  <tbody>\n",
       "    <tr>\n",
       "      <td>Build, operate, and transfer</td>\n",
       "      <td>True</td>\n",
       "      <td>False</td>\n",
       "    </tr>\n",
       "    <tr>\n",
       "      <td>Build, operate, and transfer</td>\n",
       "      <td>True</td>\n",
       "      <td>False</td>\n",
       "    </tr>\n",
       "    <tr>\n",
       "      <td>Build, own, and operate</td>\n",
       "      <td>True</td>\n",
       "      <td>False</td>\n",
       "    </tr>\n",
       "    <tr>\n",
       "      <td>Partial</td>\n",
       "      <td>False</td>\n",
       "      <td>True</td>\n",
       "    </tr>\n",
       "    <tr>\n",
       "      <td>Rehabilitate, operate, and transfer</td>\n",
       "      <td>True</td>\n",
       "      <td>False</td>\n",
       "    </tr>\n",
       "    <tr>\n",
       "      <td>...</td>\n",
       "      <td>...</td>\n",
       "      <td>...</td>\n",
       "    </tr>\n",
       "    <tr>\n",
       "      <td>Management contract</td>\n",
       "      <td>True</td>\n",
       "      <td>False</td>\n",
       "    </tr>\n",
       "    <tr>\n",
       "      <td>Build, own, and operate</td>\n",
       "      <td>True</td>\n",
       "      <td>False</td>\n",
       "    </tr>\n",
       "    <tr>\n",
       "      <td>Other/NA</td>\n",
       "      <td>True</td>\n",
       "      <td>False</td>\n",
       "    </tr>\n",
       "    <tr>\n",
       "      <td>Build, operate, and transfer</td>\n",
       "      <td>True</td>\n",
       "      <td>False</td>\n",
       "    </tr>\n",
       "    <tr>\n",
       "      <td>Build, own, and operate</td>\n",
       "      <td>True</td>\n",
       "      <td>False</td>\n",
       "    </tr>\n",
       "  </tbody>\n",
       "</table>\n",
       "<p>10228 rows × 2 columns</p>\n",
       "</div>"
      ],
      "text/plain": [
       "                                     PPP Project  Other PPI\n",
       "stype                                                      \n",
       "Build, operate, and transfer                True      False\n",
       "Build, operate, and transfer                True      False\n",
       "Build, own, and operate                     True      False\n",
       "Partial                                    False       True\n",
       "Rehabilitate, operate, and transfer         True      False\n",
       "...                                          ...        ...\n",
       "Management contract                         True      False\n",
       "Build, own, and operate                     True      False\n",
       "Other/NA                                    True      False\n",
       "Build, operate, and transfer                True      False\n",
       "Build, own, and operate                     True      False\n",
       "\n",
       "[10228 rows x 2 columns]"
      ]
     },
     "execution_count": 8,
     "metadata": {},
     "output_type": "execute_result"
    }
   ],
   "source": [
    "df_PPP_check['PPP Project'] = df_PPP_check['PPP'] == 'PPP Project'\n",
    "df_PPP_check['Other PPI'] = df_PPP_check['PPP'] == 'Other PPI'\n",
    "df_PPP_check.drop(['PPP'],axis=1)"
   ]
  },
  {
   "cell_type": "code",
   "execution_count": 9,
   "metadata": {},
   "outputs": [
    {
     "data": {
      "text/html": [
       "<div>\n",
       "<style scoped>\n",
       "    .dataframe tbody tr th:only-of-type {\n",
       "        vertical-align: middle;\n",
       "    }\n",
       "\n",
       "    .dataframe tbody tr th {\n",
       "        vertical-align: top;\n",
       "    }\n",
       "\n",
       "    .dataframe thead th {\n",
       "        text-align: right;\n",
       "    }\n",
       "</style>\n",
       "<table border=\"1\" class=\"dataframe\">\n",
       "  <thead>\n",
       "    <tr style=\"text-align: right;\">\n",
       "      <th></th>\n",
       "      <th>PPP Project</th>\n",
       "      <th>Other PPI</th>\n",
       "    </tr>\n",
       "    <tr>\n",
       "      <th>stype</th>\n",
       "      <th></th>\n",
       "      <th></th>\n",
       "    </tr>\n",
       "  </thead>\n",
       "  <tbody>\n",
       "    <tr>\n",
       "      <td>Lease contract</td>\n",
       "      <td>130.0</td>\n",
       "      <td>0.0</td>\n",
       "    </tr>\n",
       "    <tr>\n",
       "      <td>Management contract</td>\n",
       "      <td>332.0</td>\n",
       "      <td>0.0</td>\n",
       "    </tr>\n",
       "    <tr>\n",
       "      <td>Build, rehabilitate, operate, and transfer</td>\n",
       "      <td>1968.0</td>\n",
       "      <td>0.0</td>\n",
       "    </tr>\n",
       "    <tr>\n",
       "      <td>Rehabilitate, lease or rent, and transfer</td>\n",
       "      <td>89.0</td>\n",
       "      <td>0.0</td>\n",
       "    </tr>\n",
       "    <tr>\n",
       "      <td>Rehabilitate, operate, and transfer</td>\n",
       "      <td>817.0</td>\n",
       "      <td>0.0</td>\n",
       "    </tr>\n",
       "    <tr>\n",
       "      <td>Full</td>\n",
       "      <td>0.0</td>\n",
       "      <td>346.0</td>\n",
       "    </tr>\n",
       "    <tr>\n",
       "      <td>Build, lease, and transfer</td>\n",
       "      <td>27.0</td>\n",
       "      <td>0.0</td>\n",
       "    </tr>\n",
       "    <tr>\n",
       "      <td>Build, operate, and transfer</td>\n",
       "      <td>2655.0</td>\n",
       "      <td>0.0</td>\n",
       "    </tr>\n",
       "    <tr>\n",
       "      <td>Build, own, and operate</td>\n",
       "      <td>2211.0</td>\n",
       "      <td>0.0</td>\n",
       "    </tr>\n",
       "    <tr>\n",
       "      <td>Merchant</td>\n",
       "      <td>0.0</td>\n",
       "      <td>380.0</td>\n",
       "    </tr>\n",
       "    <tr>\n",
       "      <td>Partial</td>\n",
       "      <td>0.0</td>\n",
       "      <td>985.0</td>\n",
       "    </tr>\n",
       "    <tr>\n",
       "      <td>Rental</td>\n",
       "      <td>69.0</td>\n",
       "      <td>0.0</td>\n",
       "    </tr>\n",
       "    <tr>\n",
       "      <td>Other/NA</td>\n",
       "      <td>218.0</td>\n",
       "      <td>1.0</td>\n",
       "    </tr>\n",
       "  </tbody>\n",
       "</table>\n",
       "</div>"
      ],
      "text/plain": [
       "                                            PPP Project  Other PPI\n",
       "stype                                                             \n",
       "Lease contract                                    130.0        0.0\n",
       "Management contract                               332.0        0.0\n",
       "Build, rehabilitate, operate, and transfer       1968.0        0.0\n",
       "Rehabilitate, lease or rent, and transfer          89.0        0.0\n",
       "Rehabilitate, operate, and transfer               817.0        0.0\n",
       "Full                                                0.0      346.0\n",
       "Build, lease, and transfer                         27.0        0.0\n",
       "Build, operate, and transfer                     2655.0        0.0\n",
       "Build, own, and operate                          2211.0        0.0\n",
       "Merchant                                            0.0      380.0\n",
       "Partial                                             0.0      985.0\n",
       "Rental                                             69.0        0.0\n",
       "Other/NA                                          218.0        1.0"
      ]
     },
     "execution_count": 9,
     "metadata": {},
     "output_type": "execute_result"
    }
   ],
   "source": [
    "df_PPP_check.groupby(['stype']).sum()"
   ]
  },
  {
   "cell_type": "markdown",
   "metadata": {},
   "source": [
    "We can therefore confirm that only stype with value 'Full', 'Merchant' and 'Partial' are considered not PPP, with the exception of a single Other/NA project"
   ]
  },
  {
   "cell_type": "code",
   "execution_count": 10,
   "metadata": {},
   "outputs": [
    {
     "data": {
      "text/html": [
       "<div>\n",
       "<style scoped>\n",
       "    .dataframe tbody tr th:only-of-type {\n",
       "        vertical-align: middle;\n",
       "    }\n",
       "\n",
       "    .dataframe tbody tr th {\n",
       "        vertical-align: top;\n",
       "    }\n",
       "\n",
       "    .dataframe thead th {\n",
       "        text-align: right;\n",
       "    }\n",
       "</style>\n",
       "<table border=\"1\" class=\"dataframe\">\n",
       "  <thead>\n",
       "    <tr style=\"text-align: right;\">\n",
       "      <th></th>\n",
       "      <th>ID</th>\n",
       "      <th>IY</th>\n",
       "      <th>country</th>\n",
       "      <th>Region</th>\n",
       "      <th>income</th>\n",
       "      <th>IDA</th>\n",
       "      <th>FCY</th>\n",
       "      <th>FCM</th>\n",
       "      <th>type</th>\n",
       "      <th>stype</th>\n",
       "      <th>...</th>\n",
       "      <th>iso2code</th>\n",
       "      <th>GDP</th>\n",
       "      <th>population</th>\n",
       "      <th>CPI2019</th>\n",
       "      <th>investment_real</th>\n",
       "      <th>realphysicalassets</th>\n",
       "      <th>realfeestogovernment</th>\n",
       "      <th>name</th>\n",
       "      <th>MLS</th>\n",
       "      <th>PPP</th>\n",
       "    </tr>\n",
       "  </thead>\n",
       "  <tbody>\n",
       "    <tr>\n",
       "      <td>9175</td>\n",
       "      <td>8777</td>\n",
       "      <td>2016</td>\n",
       "      <td>Turkey</td>\n",
       "      <td>ECA</td>\n",
       "      <td>Upper middle income</td>\n",
       "      <td>Non-IDA</td>\n",
       "      <td>2016</td>\n",
       "      <td>June</td>\n",
       "      <td>Divestiture</td>\n",
       "      <td>Other/NA</td>\n",
       "      <td>...</td>\n",
       "      <td>TR</td>\n",
       "      <td>8.637216e+11</td>\n",
       "      <td>79821724.0</td>\n",
       "      <td>1.046247</td>\n",
       "      <td>204.227463</td>\n",
       "      <td>19.0417</td>\n",
       "      <td>185.18576</td>\n",
       "      <td>Karacaoren 1 &amp; 2 Hydro Plants Privatization</td>\n",
       "      <td>With MLS</td>\n",
       "      <td>Other PPI</td>\n",
       "    </tr>\n",
       "  </tbody>\n",
       "</table>\n",
       "<p>1 rows × 60 columns</p>\n",
       "</div>"
      ],
      "text/plain": [
       "        ID    IY country Region               income      IDA   FCY   FCM  \\\n",
       "9175  8777  2016  Turkey    ECA  Upper middle income  Non-IDA  2016  June   \n",
       "\n",
       "             type     stype  ... iso2code           GDP  population   CPI2019  \\\n",
       "9175  Divestiture  Other/NA  ...       TR  8.637216e+11  79821724.0  1.046247   \n",
       "\n",
       "     investment_real  realphysicalassets realfeestogovernment  \\\n",
       "9175      204.227463             19.0417            185.18576   \n",
       "\n",
       "                                             name       MLS        PPP  \n",
       "9175  Karacaoren 1 & 2 Hydro Plants Privatization  With MLS  Other PPI  \n",
       "\n",
       "[1 rows x 60 columns]"
      ]
     },
     "execution_count": 10,
     "metadata": {},
     "output_type": "execute_result"
    }
   ],
   "source": [
    "# Finding the exception discussed above\n",
    "df_stata[df_stata['PPP'].str.contains('Other PPI') & df_stata['stype'].str.contains('Other/NA')]"
   ]
  },
  {
   "cell_type": "markdown",
   "metadata": {},
   "source": [
    "## 2. Data preparation and clean-up"
   ]
  },
  {
   "cell_type": "markdown",
   "metadata": {},
   "source": [
    "Now, back to df_query for some analysis"
   ]
  },
  {
   "cell_type": "code",
   "execution_count": 11,
   "metadata": {},
   "outputs": [
    {
     "data": {
      "text/plain": [
       "Build, operate, and transfer                  2655\n",
       "Build, own, and operate                       2211\n",
       "Build, rehabilitate, operate, and transfer    1968\n",
       "Partial                                        985\n",
       "Rehabilitate, operate, and transfer            817\n",
       "Merchant                                       380\n",
       "Full                                           346\n",
       "Management contract                            332\n",
       "Not Available                                  171\n",
       "Lease contract                                 130\n",
       "Rehabilitate, lease or rent, and transfer       89\n",
       "Rental                                          69\n",
       "Other                                           48\n",
       "Build, lease, and transfer                      27\n",
       "Name: Subtype of PPI, dtype: int64"
      ]
     },
     "execution_count": 11,
     "metadata": {},
     "output_type": "execute_result"
    }
   ],
   "source": [
    "df_query['Subtype of PPI'].value_counts()"
   ]
  },
  {
   "cell_type": "code",
   "execution_count": 12,
   "metadata": {},
   "outputs": [],
   "source": [
    "# Unlike the PPI website, we elect to remove 'Not Available' from the list of PPP subtypes\n",
    "\n",
    "PPP_subtypes = ['Build, operate, and transfer',\n",
    "                'Build, own, and operate',\n",
    "                'Build, rehabilitate, operate, and transfer',\n",
    "                'Rehabilitate, operate, and transfer',\n",
    "                'Management contract',\n",
    "                'Lease contract',\n",
    "                'Rehabilitate, lease or rent, and transfer'\n",
    "                'Rental',\n",
    "                'Other',\n",
    "                'Build, lease, and transfer'\n",
    "               ]"
   ]
  },
  {
   "cell_type": "code",
   "execution_count": 13,
   "metadata": {},
   "outputs": [
    {
     "data": {
      "text/plain": [
       "Electricity                       5037\n",
       "Roads                             1224\n",
       "Natural Gas                        744\n",
       "Treatment plant                    653\n",
       "Ports                              615\n",
       "ICT                                539\n",
       "Water Utility                      495\n",
       "Railways                           279\n",
       "Treatment Disposal                 262\n",
       "Airports                           215\n",
       "Collection and Transport            91\n",
       "Integrated MSW                      43\n",
       "Electricity, Water Utility          12\n",
       "Electricity, ICT                     9\n",
       "Electricity, Natural Gas             3\n",
       "Treatment plant, Water Utility       2\n",
       "Railways, Roads                      2\n",
       "Ports, Railways                      1\n",
       "Electricity, Roads                   1\n",
       "Electricity, Treatment plant         1\n",
       "Name: Subsector, dtype: int64"
      ]
     },
     "execution_count": 13,
     "metadata": {},
     "output_type": "execute_result"
    }
   ],
   "source": [
    "df_query['Subsector'].value_counts()"
   ]
  },
  {
   "cell_type": "code",
   "execution_count": 14,
   "metadata": {},
   "outputs": [],
   "source": [
    "# List of sectors that corresponds to Electricity\n",
    "electricity_sectors = ['Electricity','Electricity, ICT','Electricity, Treatment plant','Electricity, Roads']"
   ]
  },
  {
   "cell_type": "code",
   "execution_count": 15,
   "metadata": {},
   "outputs": [],
   "source": [
    "# we build a dataframe containing only the chosen electricity sectors\n",
    "df_electricity = df_query[df_query['Subsector'].isin(electricity_sectors)]"
   ]
  },
  {
   "cell_type": "code",
   "execution_count": 16,
   "metadata": {},
   "outputs": [
    {
     "data": {
      "text/plain": [
       "Electricity generation                                                                  3634\n",
       "Electricity distribution                                                                 664\n",
       "Electricity distribution, generation, and transmission                                   336\n",
       "Electricity transmission                                                                 213\n",
       "Electricity distribution and generation                                                  124\n",
       "Electricity distribution and transmission                                                 55\n",
       "Electricity transmission, <br/>Other                                                       9\n",
       "Electricity generation and transmission                                                    4\n",
       "Electricity distribution, <br/>Electricity generation, <br/>Electricity transmission       3\n",
       "Electricity distribution, <br/>Electricity generation                                      2\n",
       "Electricity generation, <br/>Potable water treatment plant                                 1\n",
       "Electricity generation, <br/>Electricity transmission                                      1\n",
       "Other                                                                                      1\n",
       "Bridge and highway, <br/>Electricity generation                                            1\n",
       "Name: Segment, dtype: int64"
      ]
     },
     "execution_count": 16,
     "metadata": {},
     "output_type": "execute_result"
    }
   ],
   "source": [
    "# we look at what's in the Segment column of the df_electrivity dataframe\n",
    "df_electricity['Segment'].value_counts()"
   ]
  },
  {
   "cell_type": "code",
   "execution_count": 17,
   "metadata": {},
   "outputs": [],
   "source": [
    "# list of segments that corresponds to transmission\n",
    "transmission_segments = ['Electricity transmission','Electricity transmission, <br/>Other']"
   ]
  },
  {
   "cell_type": "code",
   "execution_count": 18,
   "metadata": {},
   "outputs": [],
   "source": [
    "df_electricity_transmission = df_electricity[df_electricity['Segment'].isin(transmission_segments)]"
   ]
  },
  {
   "cell_type": "markdown",
   "metadata": {},
   "source": [
    "## 3. Data analysis"
   ]
  },
  {
   "cell_type": "markdown",
   "metadata": {},
   "source": [
    "Now that we've compiled together all electricity transmission projects, it is time for data analysis"
   ]
  },
  {
   "cell_type": "code",
   "execution_count": 100,
   "metadata": {},
   "outputs": [
    {
     "data": {
      "text/plain": [
       "Build, operate, and transfer                  148\n",
       "Build, rehabilitate, operate, and transfer     23\n",
       "Build, own, and operate                        22\n",
       "Partial                                        15\n",
       "Rehabilitate, operate, and transfer             7\n",
       "Not Available                                   5\n",
       "Merchant                                        1\n",
       "Management contract                             1\n",
       "Name: Subtype of PPI, dtype: int64"
      ]
     },
     "execution_count": 100,
     "metadata": {},
     "output_type": "execute_result"
    }
   ],
   "source": [
    "# Looking at available PPI subtypes\n",
    "df_electricity_transmission['Subtype of PPI'].value_counts()"
   ]
  },
  {
   "cell_type": "code",
   "execution_count": 20,
   "metadata": {},
   "outputs": [
    {
     "data": {
      "text/plain": [
       "Active        219\n",
       "Distressed      2\n",
       "Concluded       1\n",
       "Name: Project status, dtype: int64"
      ]
     },
     "execution_count": 20,
     "metadata": {},
     "output_type": "execute_result"
    }
   ],
   "source": [
    "# Looking at available Project status\n",
    "df_electricity_transmission['Project status'].value_counts()"
   ]
  },
  {
   "cell_type": "code",
   "execution_count": 21,
   "metadata": {},
   "outputs": [
    {
     "data": {
      "text/plain": [
       "Greenfield project               176\n",
       "Brownfield                        30\n",
       "Divestiture                       15\n",
       "Management and lease contract      1\n",
       "Name: Type of PPI, dtype: int64"
      ]
     },
     "execution_count": 21,
     "metadata": {},
     "output_type": "execute_result"
    }
   ],
   "source": [
    "# Looking at available types of T-Line PPP\n",
    "df_electricity_transmission['Type of PPI'].value_counts()"
   ]
  },
  {
   "cell_type": "code",
   "execution_count": 102,
   "metadata": {},
   "outputs": [
    {
     "data": {
      "text/plain": [
       "Brazil                127\n",
       "India                  27\n",
       "Peru                   23\n",
       "Argentina              22\n",
       "Colombia                9\n",
       "Cambodia                3\n",
       "Romania                 2\n",
       "Bolivia                 1\n",
       "Russian Federation      1\n",
       "Georgia                 1\n",
       "Zambia                  1\n",
       "Philippines             1\n",
       "Belize                  1\n",
       "Guatemala               1\n",
       "Bangladesh              1\n",
       "Pakistan                1\n",
       "Name: Country, dtype: int64"
      ]
     },
     "execution_count": 102,
     "metadata": {},
     "output_type": "execute_result"
    }
   ],
   "source": [
    "# Looking at countries with T-Line PPP experience\n",
    "df_electricity_transmission['Country'].value_counts()"
   ]
  },
  {
   "cell_type": "code",
   "execution_count": 23,
   "metadata": {},
   "outputs": [],
   "source": [
    "# We create a few selection criteria based on our findings\n",
    "selected_type_of_PPI=['Greenfield project','Brownfield']"
   ]
  },
  {
   "cell_type": "code",
   "execution_count": 24,
   "metadata": {},
   "outputs": [],
   "source": [
    "df_electricity_transmission_new_PPP = df_electricity_transmission[\n",
    "    df_electricity_transmission['Type of PPI'].isin(selected_type_of_PPI) & \n",
    "    df_electricity_transmission['Subtype of PPI'].isin(PPP_subtypes)\n",
    "]"
   ]
  },
  {
   "cell_type": "code",
   "execution_count": 25,
   "metadata": {},
   "outputs": [],
   "source": [
    "# replacing some values for better readibility\n",
    "\n",
    "replacement_dict = {\n",
    "    'Subtype of PPI':{\n",
    "        'Build, operate, and transfer' : 'BOT',\n",
    "        'Build, rehabilitate, operate, and transfer' : 'BROT',\n",
    "        'Build, own, and operate': 'BOO',\n",
    "        'Rehabilitate, operate, and transfer': 'ROT'\n",
    "    }  \n",
    "}\n",
    "\n",
    "df_output = df_electricity_transmission_new_PPP.replace(replacement_dict)"
   ]
  },
  {
   "cell_type": "code",
   "execution_count": 26,
   "metadata": {},
   "outputs": [],
   "source": [
    "tt = df_output['Subtype of PPI'].value_counts()"
   ]
  },
  {
   "cell_type": "code",
   "execution_count": 99,
   "metadata": {},
   "outputs": [
    {
     "data": {
      "image/png": "[encoded data removed]",
      "text/plain": [
       "<Figure size 432x288 with 1 Axes>"
      ]
     },
     "metadata": {},
     "output_type": "display_data"
    }
   ],
   "source": [
    "pie = tt.plot.pie(legend=True,autopct='%1.1f%%',title='T-Line PPP Types')\n",
    "plt.title = 'T-Line PPP Types'\n",
    "plt.size = (10,10)\n",
    "plt.show()"
   ]
  },
  {
   "cell_type": "code",
   "execution_count": 28,
   "metadata": {},
   "outputs": [
    {
     "data": {
      "text/plain": [
       "Not Available    3\n",
       "230              2\n",
       "113.4            2\n",
       "8.3              2\n",
       "234              2\n",
       "                ..\n",
       "338              1\n",
       "220              1\n",
       "74.4             1\n",
       "265.62           1\n",
       "58               1\n",
       "Name: TotalInvestment, Length: 190, dtype: int64"
      ]
     },
     "execution_count": 28,
     "metadata": {},
     "output_type": "execute_result"
    }
   ],
   "source": [
    "df_output['TotalInvestment'].value_counts()"
   ]
  },
  {
   "cell_type": "code",
   "execution_count": 29,
   "metadata": {},
   "outputs": [],
   "source": [
    "df_output_for_investment = df_output[['InvestmentYear','TotalInvestment']]"
   ]
  },
  {
   "cell_type": "code",
   "execution_count": 30,
   "metadata": {},
   "outputs": [
    {
     "name": "stderr",
     "output_type": "stream",
     "text": [
      "C:\\Users\\julie\\Anaconda3\\lib\\site-packages\\pandas\\core\\generic.py:6702: SettingWithCopyWarning: \n",
      "A value is trying to be set on a copy of a slice from a DataFrame.\n",
      "Try using .loc[row_indexer,col_indexer] = value instead\n",
      "\n",
      "See the caveats in the documentation: http://pandas.pydata.org/pandas-docs/stable/user_guide/indexing.html#returning-a-view-versus-a-copy\n",
      "  regex=regex,\n"
     ]
    }
   ],
   "source": [
    "# replaces the 'Not Available values' in the 'TotalInvestment column'\n",
    "df_output_for_investment.replace({'TotalInvestment':{'Not Available':0}},inplace=True)"
   ]
  },
  {
   "cell_type": "code",
   "execution_count": 31,
   "metadata": {},
   "outputs": [
    {
     "data": {
      "text/plain": [
       "0         3\n",
       "190       2\n",
       "680       2\n",
       "44.6      2\n",
       "234       2\n",
       "         ..\n",
       "74.4      1\n",
       "265.62    1\n",
       "143.8     1\n",
       "14.6      1\n",
       "38        1\n",
       "Name: TotalInvestment, Length: 190, dtype: int64"
      ]
     },
     "execution_count": 31,
     "metadata": {},
     "output_type": "execute_result"
    }
   ],
   "source": [
    "df_output_for_investment['TotalInvestment'].value_counts()"
   ]
  },
  {
   "cell_type": "code",
   "execution_count": 32,
   "metadata": {},
   "outputs": [
    {
     "data": {
      "text/html": [
       "<div>\n",
       "<style scoped>\n",
       "    .dataframe tbody tr th:only-of-type {\n",
       "        vertical-align: middle;\n",
       "    }\n",
       "\n",
       "    .dataframe tbody tr th {\n",
       "        vertical-align: top;\n",
       "    }\n",
       "\n",
       "    .dataframe thead th {\n",
       "        text-align: right;\n",
       "    }\n",
       "</style>\n",
       "<table border=\"1\" class=\"dataframe\">\n",
       "  <thead>\n",
       "    <tr style=\"text-align: right;\">\n",
       "      <th></th>\n",
       "      <th>InvestmentYear</th>\n",
       "      <th>TotalInvestment</th>\n",
       "    </tr>\n",
       "  </thead>\n",
       "  <tbody>\n",
       "    <tr>\n",
       "      <td>23</td>\n",
       "      <td>True</td>\n",
       "      <td>False</td>\n",
       "    </tr>\n",
       "    <tr>\n",
       "      <td>27</td>\n",
       "      <td>True</td>\n",
       "      <td>False</td>\n",
       "    </tr>\n",
       "    <tr>\n",
       "      <td>34</td>\n",
       "      <td>True</td>\n",
       "      <td>False</td>\n",
       "    </tr>\n",
       "    <tr>\n",
       "      <td>2374</td>\n",
       "      <td>True</td>\n",
       "      <td>False</td>\n",
       "    </tr>\n",
       "    <tr>\n",
       "      <td>4403</td>\n",
       "      <td>True</td>\n",
       "      <td>False</td>\n",
       "    </tr>\n",
       "    <tr>\n",
       "      <td>...</td>\n",
       "      <td>...</td>\n",
       "      <td>...</td>\n",
       "    </tr>\n",
       "    <tr>\n",
       "      <td>9234</td>\n",
       "      <td>True</td>\n",
       "      <td>False</td>\n",
       "    </tr>\n",
       "    <tr>\n",
       "      <td>9260</td>\n",
       "      <td>True</td>\n",
       "      <td>False</td>\n",
       "    </tr>\n",
       "    <tr>\n",
       "      <td>9329</td>\n",
       "      <td>True</td>\n",
       "      <td>False</td>\n",
       "    </tr>\n",
       "    <tr>\n",
       "      <td>9529</td>\n",
       "      <td>True</td>\n",
       "      <td>False</td>\n",
       "    </tr>\n",
       "    <tr>\n",
       "      <td>10218</td>\n",
       "      <td>True</td>\n",
       "      <td>False</td>\n",
       "    </tr>\n",
       "  </tbody>\n",
       "</table>\n",
       "<p>200 rows × 2 columns</p>\n",
       "</div>"
      ],
      "text/plain": [
       "       InvestmentYear  TotalInvestment\n",
       "23               True            False\n",
       "27               True            False\n",
       "34               True            False\n",
       "2374             True            False\n",
       "4403             True            False\n",
       "...               ...              ...\n",
       "9234             True            False\n",
       "9260             True            False\n",
       "9329             True            False\n",
       "9529             True            False\n",
       "10218            True            False\n",
       "\n",
       "[200 rows x 2 columns]"
      ]
     },
     "execution_count": 32,
     "metadata": {},
     "output_type": "execute_result"
    }
   ],
   "source": [
    "df_output_for_investment.applymap(lambda x: isinstance(x, (int, float)))"
   ]
  },
  {
   "cell_type": "code",
   "execution_count": 33,
   "metadata": {},
   "outputs": [
    {
     "name": "stderr",
     "output_type": "stream",
     "text": [
      "C:\\Users\\julie\\Anaconda3\\lib\\site-packages\\ipykernel_launcher.py:1: SettingWithCopyWarning: \n",
      "A value is trying to be set on a copy of a slice from a DataFrame.\n",
      "Try using .loc[row_indexer,col_indexer] = value instead\n",
      "\n",
      "See the caveats in the documentation: http://pandas.pydata.org/pandas-docs/stable/user_guide/indexing.html#returning-a-view-versus-a-copy\n",
      "  \"\"\"Entry point for launching an IPython kernel.\n"
     ]
    }
   ],
   "source": [
    "df_output_for_investment['TotalInvestment'] = df_output_for_investment['TotalInvestment'].apply(lambda x: float(x))"
   ]
  },
  {
   "cell_type": "code",
   "execution_count": 34,
   "metadata": {},
   "outputs": [
    {
     "name": "stderr",
     "output_type": "stream",
     "text": [
      "C:\\Users\\julie\\Anaconda3\\lib\\site-packages\\ipykernel_launcher.py:1: SettingWithCopyWarning: \n",
      "A value is trying to be set on a copy of a slice from a DataFrame.\n",
      "Try using .loc[row_indexer,col_indexer] = value instead\n",
      "\n",
      "See the caveats in the documentation: http://pandas.pydata.org/pandas-docs/stable/user_guide/indexing.html#returning-a-view-versus-a-copy\n",
      "  \"\"\"Entry point for launching an IPython kernel.\n"
     ]
    }
   ],
   "source": [
    "df_output_for_investment['Count'] = 1\n",
    "df_output_for_investment.set_index('InvestmentYear',inplace=True)"
   ]
  },
  {
   "cell_type": "code",
   "execution_count": 35,
   "metadata": {},
   "outputs": [
    {
     "data": {
      "text/html": [
       "<div>\n",
       "<style scoped>\n",
       "    .dataframe tbody tr th:only-of-type {\n",
       "        vertical-align: middle;\n",
       "    }\n",
       "\n",
       "    .dataframe tbody tr th {\n",
       "        vertical-align: top;\n",
       "    }\n",
       "\n",
       "    .dataframe thead th {\n",
       "        text-align: right;\n",
       "    }\n",
       "</style>\n",
       "<table border=\"1\" class=\"dataframe\">\n",
       "  <thead>\n",
       "    <tr style=\"text-align: right;\">\n",
       "      <th></th>\n",
       "      <th>TotalInvestment</th>\n",
       "      <th>Count</th>\n",
       "    </tr>\n",
       "    <tr>\n",
       "      <th>InvestmentYear</th>\n",
       "      <th></th>\n",
       "      <th></th>\n",
       "    </tr>\n",
       "  </thead>\n",
       "  <tbody>\n",
       "    <tr>\n",
       "      <td>2007</td>\n",
       "      <td>113.40</td>\n",
       "      <td>1</td>\n",
       "    </tr>\n",
       "    <tr>\n",
       "      <td>2010</td>\n",
       "      <td>106.50</td>\n",
       "      <td>1</td>\n",
       "    </tr>\n",
       "    <tr>\n",
       "      <td>2018</td>\n",
       "      <td>100.21</td>\n",
       "      <td>1</td>\n",
       "    </tr>\n",
       "    <tr>\n",
       "      <td>2009</td>\n",
       "      <td>2888.00</td>\n",
       "      <td>1</td>\n",
       "    </tr>\n",
       "    <tr>\n",
       "      <td>1993</td>\n",
       "      <td>234.00</td>\n",
       "      <td>1</td>\n",
       "    </tr>\n",
       "    <tr>\n",
       "      <td>...</td>\n",
       "      <td>...</td>\n",
       "      <td>...</td>\n",
       "    </tr>\n",
       "    <tr>\n",
       "      <td>2016</td>\n",
       "      <td>447.30</td>\n",
       "      <td>1</td>\n",
       "    </tr>\n",
       "    <tr>\n",
       "      <td>2017</td>\n",
       "      <td>146.50</td>\n",
       "      <td>1</td>\n",
       "    </tr>\n",
       "    <tr>\n",
       "      <td>2018</td>\n",
       "      <td>185.55</td>\n",
       "      <td>1</td>\n",
       "    </tr>\n",
       "    <tr>\n",
       "      <td>2019</td>\n",
       "      <td>1658.00</td>\n",
       "      <td>1</td>\n",
       "    </tr>\n",
       "    <tr>\n",
       "      <td>2012</td>\n",
       "      <td>110.00</td>\n",
       "      <td>1</td>\n",
       "    </tr>\n",
       "  </tbody>\n",
       "</table>\n",
       "<p>200 rows × 2 columns</p>\n",
       "</div>"
      ],
      "text/plain": [
       "                TotalInvestment  Count\n",
       "InvestmentYear                        \n",
       "2007                     113.40      1\n",
       "2010                     106.50      1\n",
       "2018                     100.21      1\n",
       "2009                    2888.00      1\n",
       "1993                     234.00      1\n",
       "...                         ...    ...\n",
       "2016                     447.30      1\n",
       "2017                     146.50      1\n",
       "2018                     185.55      1\n",
       "2019                    1658.00      1\n",
       "2012                     110.00      1\n",
       "\n",
       "[200 rows x 2 columns]"
      ]
     },
     "execution_count": 35,
     "metadata": {},
     "output_type": "execute_result"
    }
   ],
   "source": [
    "df_output_for_investment"
   ]
  },
  {
   "cell_type": "code",
   "execution_count": 36,
   "metadata": {},
   "outputs": [
    {
     "data": {
      "text/html": [
       "<div>\n",
       "<style scoped>\n",
       "    .dataframe tbody tr th:only-of-type {\n",
       "        vertical-align: middle;\n",
       "    }\n",
       "\n",
       "    .dataframe tbody tr th {\n",
       "        vertical-align: top;\n",
       "    }\n",
       "\n",
       "    .dataframe thead th {\n",
       "        text-align: right;\n",
       "    }\n",
       "</style>\n",
       "<table border=\"1\" class=\"dataframe\">\n",
       "  <thead>\n",
       "    <tr style=\"text-align: right;\">\n",
       "      <th></th>\n",
       "      <th>TotalInvestment</th>\n",
       "      <th>Count</th>\n",
       "    </tr>\n",
       "    <tr>\n",
       "      <th>InvestmentYear</th>\n",
       "      <th></th>\n",
       "      <th></th>\n",
       "    </tr>\n",
       "  </thead>\n",
       "  <tbody>\n",
       "    <tr>\n",
       "      <td>1993</td>\n",
       "      <td>234.00</td>\n",
       "      <td>1</td>\n",
       "    </tr>\n",
       "    <tr>\n",
       "      <td>1994</td>\n",
       "      <td>187.78</td>\n",
       "      <td>5</td>\n",
       "    </tr>\n",
       "    <tr>\n",
       "      <td>1995</td>\n",
       "      <td>177.00</td>\n",
       "      <td>1</td>\n",
       "    </tr>\n",
       "    <tr>\n",
       "      <td>1997</td>\n",
       "      <td>220.00</td>\n",
       "      <td>1</td>\n",
       "    </tr>\n",
       "    <tr>\n",
       "      <td>1998</td>\n",
       "      <td>439.20</td>\n",
       "      <td>2</td>\n",
       "    </tr>\n",
       "    <tr>\n",
       "      <td>1999</td>\n",
       "      <td>74.50</td>\n",
       "      <td>1</td>\n",
       "    </tr>\n",
       "    <tr>\n",
       "      <td>2000</td>\n",
       "      <td>1543.40</td>\n",
       "      <td>4</td>\n",
       "    </tr>\n",
       "    <tr>\n",
       "      <td>2001</td>\n",
       "      <td>58.50</td>\n",
       "      <td>1</td>\n",
       "    </tr>\n",
       "    <tr>\n",
       "      <td>2002</td>\n",
       "      <td>1000.50</td>\n",
       "      <td>5</td>\n",
       "    </tr>\n",
       "    <tr>\n",
       "      <td>2003</td>\n",
       "      <td>487.10</td>\n",
       "      <td>4</td>\n",
       "    </tr>\n",
       "    <tr>\n",
       "      <td>2004</td>\n",
       "      <td>1023.94</td>\n",
       "      <td>12</td>\n",
       "    </tr>\n",
       "    <tr>\n",
       "      <td>2005</td>\n",
       "      <td>484.50</td>\n",
       "      <td>6</td>\n",
       "    </tr>\n",
       "    <tr>\n",
       "      <td>2006</td>\n",
       "      <td>2651.20</td>\n",
       "      <td>14</td>\n",
       "    </tr>\n",
       "    <tr>\n",
       "      <td>2007</td>\n",
       "      <td>583.40</td>\n",
       "      <td>5</td>\n",
       "    </tr>\n",
       "    <tr>\n",
       "      <td>2008</td>\n",
       "      <td>1407.40</td>\n",
       "      <td>11</td>\n",
       "    </tr>\n",
       "    <tr>\n",
       "      <td>2009</td>\n",
       "      <td>5163.28</td>\n",
       "      <td>22</td>\n",
       "    </tr>\n",
       "    <tr>\n",
       "      <td>2010</td>\n",
       "      <td>4543.11</td>\n",
       "      <td>15</td>\n",
       "    </tr>\n",
       "    <tr>\n",
       "      <td>2011</td>\n",
       "      <td>2313.80</td>\n",
       "      <td>13</td>\n",
       "    </tr>\n",
       "    <tr>\n",
       "      <td>2012</td>\n",
       "      <td>4997.50</td>\n",
       "      <td>14</td>\n",
       "    </tr>\n",
       "    <tr>\n",
       "      <td>2013</td>\n",
       "      <td>2896.90</td>\n",
       "      <td>14</td>\n",
       "    </tr>\n",
       "    <tr>\n",
       "      <td>2014</td>\n",
       "      <td>1739.60</td>\n",
       "      <td>15</td>\n",
       "    </tr>\n",
       "    <tr>\n",
       "      <td>2015</td>\n",
       "      <td>1366.80</td>\n",
       "      <td>12</td>\n",
       "    </tr>\n",
       "    <tr>\n",
       "      <td>2016</td>\n",
       "      <td>1516.05</td>\n",
       "      <td>11</td>\n",
       "    </tr>\n",
       "    <tr>\n",
       "      <td>2017</td>\n",
       "      <td>1908.60</td>\n",
       "      <td>2</td>\n",
       "    </tr>\n",
       "    <tr>\n",
       "      <td>2018</td>\n",
       "      <td>1317.44</td>\n",
       "      <td>5</td>\n",
       "    </tr>\n",
       "    <tr>\n",
       "      <td>2019</td>\n",
       "      <td>2151.73</td>\n",
       "      <td>4</td>\n",
       "    </tr>\n",
       "  </tbody>\n",
       "</table>\n",
       "</div>"
      ],
      "text/plain": [
       "                TotalInvestment  Count\n",
       "InvestmentYear                        \n",
       "1993                     234.00      1\n",
       "1994                     187.78      5\n",
       "1995                     177.00      1\n",
       "1997                     220.00      1\n",
       "1998                     439.20      2\n",
       "1999                      74.50      1\n",
       "2000                    1543.40      4\n",
       "2001                      58.50      1\n",
       "2002                    1000.50      5\n",
       "2003                     487.10      4\n",
       "2004                    1023.94     12\n",
       "2005                     484.50      6\n",
       "2006                    2651.20     14\n",
       "2007                     583.40      5\n",
       "2008                    1407.40     11\n",
       "2009                    5163.28     22\n",
       "2010                    4543.11     15\n",
       "2011                    2313.80     13\n",
       "2012                    4997.50     14\n",
       "2013                    2896.90     14\n",
       "2014                    1739.60     15\n",
       "2015                    1366.80     12\n",
       "2016                    1516.05     11\n",
       "2017                    1908.60      2\n",
       "2018                    1317.44      5\n",
       "2019                    2151.73      4"
      ]
     },
     "execution_count": 36,
     "metadata": {},
     "output_type": "execute_result"
    }
   ],
   "source": [
    "# Investment per year\n",
    "import matplotlib.pyplot as plt\n",
    "\n",
    "data = df_output_for_investment.groupby(['InvestmentYear']).sum()\n",
    "data"
   ]
  },
  {
   "cell_type": "code",
   "execution_count": 85,
   "metadata": {},
   "outputs": [
    {
     "data": {
      "image/png": "[encoded data removed]",
      "text/plain": [
       "<Figure size 432x288 with 2 Axes>"
      ]
     },
     "metadata": {
      "needs_background": "light"
     },
     "output_type": "display_data"
    }
   ],
   "source": [
    "ax = data.plot(kind='bar', y =['TotalInvestment'],use_index=True, title='Total Investment in T-line PPP per year (USD million)', label = ['Total Investment'])\n",
    "ax.set_ylabel(\"Investment Value (USD million)\")\n",
    "ax.set_xlabel(\"Years\")\n",
    "ax2 = ax.twinx()\n",
    "ax2.plot(data[['Count']].values,linestyle='-', marker='o', linewidth=2.0,color ='k', label = 'Count of T-Line PPP Contract')\n",
    "ax2.set_ylabel('Count of T-Line PPP Contracts')\n",
    "\n",
    "# ask matplotlib for the plotted objects and their labels\n",
    "lines, labels = ax.get_legend_handles_labels()\n",
    "lines2, labels2 = ax2.get_legend_handles_labels()\n",
    "ax2.legend(lines + lines2, labels + labels2, loc=0)\n",
    "\n",
    "plt.show()"
   ]
  },
  {
   "cell_type": "code",
   "execution_count": 38,
   "metadata": {},
   "outputs": [
    {
     "data": {
      "text/plain": [
       "30                130\n",
       "20                 12\n",
       "Not Available      11\n",
       "25                 11\n",
       "95                  9\n",
       "35                  9\n",
       "Not Applicable      5\n",
       "82                  4\n",
       "33                  2\n",
       "18                  1\n",
       "50                  1\n",
       "32                  1\n",
       "15                  1\n",
       "92                  1\n",
       "27                  1\n",
       "45                  1\n",
       "Name: ContractPeriod, dtype: int64"
      ]
     },
     "execution_count": 38,
     "metadata": {},
     "output_type": "execute_result"
    }
   ],
   "source": [
    "df_contract_period = df_output['ContractPeriod']\n",
    "df_contract_period.value_counts()"
   ]
  },
  {
   "cell_type": "code",
   "execution_count": 43,
   "metadata": {},
   "outputs": [],
   "source": [
    "df_contract_period = df_contract_period[~df_contract_period.isin(['Not Available','Not Applicable'])]                             \n",
    "df_contract_period = df_contract_period.apply(lambda x: float(x))"
   ]
  },
  {
   "cell_type": "code",
   "execution_count": 55,
   "metadata": {},
   "outputs": [
    {
     "data": {
      "image/png": "[encoded data removed]",
      "text/plain": [
       "<Figure size 432x288 with 1 Axes>"
      ]
     },
     "metadata": {
      "needs_background": "light"
     },
     "output_type": "display_data"
    }
   ],
   "source": [
    "ax = df_contract_period.plot(kind='hist',xticks=np.arange(0, 100, step=5),title='Distribution of T-Line PPP Contract Periods')\n",
    "ax.set_xlabel(\"Duration in years\")\n",
    "ax.set_ylabel(\"Count of PPP contracts\")\n",
    "plt.show()"
   ]
  }
 ],
 "metadata": {
  "kernelspec": {
   "display_name": "Python 3",
   "language": "python",
   "name": "python3"
  },
  "language_info": {
   "codemirror_mode": {
    "name": "ipython",
    "version": 3
   },
   "file_extension": ".py",
   "mimetype": "text/x-python",
   "name": "python",
   "nbconvert_exporter": "python",
   "pygments_lexer": "ipython3",
   "version": "3.7.4"
  }
 },
 "nbformat": 4,
 "nbformat_minor": 4
}
